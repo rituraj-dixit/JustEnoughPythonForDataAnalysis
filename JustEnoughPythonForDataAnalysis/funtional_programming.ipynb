{
 "cells": [
  {
   "cell_type": "markdown",
   "metadata": {},
   "source": [
    "# Functional Programming in Python\n",
    "\n",
    "Functional programming is a programming paradigm that treats computation as the evaluation of mathematical functions. In Python, functional programming can be achieved using higher-order functions, lambda functions, and other techniques that focus on immutability and avoiding mutable data."
   ]
  },
  {
   "cell_type": "markdown",
   "metadata": {},
   "source": [
    "## Higher-Order Functions\n",
    "\n",
    "In functional programming, functions are treated as first-class citizens, which means they can be passed as arguments to other functions and returned from functions as well."
   ]
  },
  {
   "cell_type": "code",
   "execution_count": 1,
   "metadata": {},
   "outputs": [],
   "source": [
    "# Example of a higher-order function\n",
    "def apply_operation(func, x, y):\n",
    "    return func(x, y)\n",
    "\n",
    "def add(a, b):\n",
    "    return a + b\n",
    "\n",
    "def multiply(a, b):\n",
    "    return a * b\n",
    "\n",
    "result = apply_operation(add, 3, 5)\n",
    "print(\"Result of addition:\", result)\n",
    "\n",
    "result = apply_operation(multiply, 3, 5)\n",
    "print(\"Result of multiplication:\", result)\n"
   ]
  },
  {
   "cell_type": "markdown",
   "metadata": {},
   "source": [
    "## Lambda Functions\n",
    "\n",
    "Lambda functions are small, anonymous functions that can have any number of arguments, but they can only have one expression."
   ]
  },
  {
   "cell_type": "code",
   "execution_count": 2,
   "metadata": {},
   "outputs": [],
   "source": [
    "# Example of a lambda function\n",
    "add_lambda = lambda x, y: x + y\n",
    "result = add_lambda(3, 5)\n",
    "print(\"Result of addition using lambda:\", result)\n"
   ]
  },
  {
   "cell_type": "markdown",
   "metadata": {},
   "source": [
    "## Map and Filter Functions\n",
    "\n",
    "In functional programming, the 'map' and 'filter' functions are commonly used for processing sequences of data."
   ]
  },
  {
   "cell_type": "code",
   "execution_count": 3,
   "metadata": {},
   "outputs": [],
   "source": [
    "# Example of the map function\n",
    "numbers = [1, 2, 3, 4, 5]\n",
    "squared = list(map(lambda x: x**2, numbers))\n",
    "print(\"Squared numbers using map:\", squared)\n",
    "\n",
    "# Output: Squared numbers using map: [1, 4, 9, 16, 25]"
   ]
  },
  {
   "cell_type": "code",
   "execution_count": 4,
   "metadata": {},
   "outputs": [],
   "source": [
    "# Example of the filter function\n",
    "numbers = [1, 2, 3, 4, 5]\n",
    "even_numbers = list(filter(lambda x: x % 2 == 0, numbers))\n",
    "print(\"Even numbers using filter:\", even_numbers)\n",
    "\n",
    "# Output: Even numbers using filter: [2, 4]"
   ]
  },
  {
   "cell_type": "markdown",
   "metadata": {},
   "source": [
    "## Reduce Function\n",
    "\n",
    "The 'reduce' function from the 'functools' module is used for aggregating data by applying a function cumulatively to the items of an iterable from left to right."
   ]
  },
  {
   "cell_type": "code",
   "execution_count": 5,
   "metadata": {},
   "outputs": [],
   "source": [
    "# Example of the reduce function\n",
    "from functools import reduce\n",
    "\n",
    "numbers = [1, 2, 3, 4, 5]\n",
    "sum_of_numbers = reduce(lambda x, y: x + y, numbers)\n",
    "print(\"Sum of numbers using reduce:\", sum_of_numbers)\n",
    "\n",
    "# Output: Sum of numbers using reduce: 15"
   ]
  },
  {
   "cell_type": "markdown",
   "metadata": {},
   "source": [
    "These are some of the common features and methods related to functional programming in Python. The examples demonstrate how to use higher-order functions, lambda functions, and other functional programming techniques like 'map', 'filter', and 'reduce'. Functional programming in Python allows for more concise and expressive code, promoting immutability and the use of pure functions."
   ]
  }
 ],
 "metadata": {
  "language_info": {
   "name": "python",
   "version": "3.9.6",
   "mimetype": "text/x-python",
   "codemirror_mode": {
    "name": "ipython",
    "version": 3
   },
   "pygments_lexer": "ipython3",
   "nbconvert_exporter": "python",
   "file_extension": ".py"
  },
  "orig_nbformat": 4,
  "kernelspec": {
   "name": "python3.9",
   "display_name": "Python 3.9.6"
  },
  "interpreter": {
   "hash": "f4d789399786d0641b21c0e7c879f1c0808254489b343b20c732b951ee78e441"
  }
 },
 "nbformat": 4,
 "nbformat_minor": 5
}
