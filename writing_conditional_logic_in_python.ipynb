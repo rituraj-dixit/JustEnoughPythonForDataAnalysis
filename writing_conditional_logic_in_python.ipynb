{
 "cells": [
  {
   "cell_type": "markdown",
   "metadata": {},
   "source": [
    "# Conditional Statements in Python\n",
    "\n",
    "Conditional statements are used to make decisions in a program. They allow the program to execute different blocks of code based on certain conditions. Python provides three main conditional statements: 'if', 'elif' (else if), and 'else'."
   ]
  },
  {
   "cell_type": "markdown",
   "metadata": {},
   "source": [
    "## if Statement\n",
    "\n",
    "The 'if' statement is used to execute a block of code if a specified condition is true."
   ]
  },
  {
   "cell_type": "code",
   "execution_count": 1,
   "metadata": {},
   "outputs": [],
   "source": [
    "# Example of an if statement\n",
    "x = 10\n",
    "if x > 5:\n",
    "    print('x is greater than 5')\n",
    "\n",
    "# Output: x is greater than 5"
   ]
  },
  {
   "cell_type": "markdown",
   "metadata": {},
   "source": [
    "## else Statement\n",
    "\n",
    "The 'else' statement is used to execute a block of code if the 'if' condition is false."
   ]
  },
  {
   "cell_type": "code",
   "execution_count": 2,
   "metadata": {},
   "outputs": [],
   "source": [
    "# Example of an if-else statement\n",
    "x = 3\n",
    "if x > 5:\n",
    "    print('x is greater than 5')\n",
    "else:\n",
    "    print('x is not greater than 5')\n",
    "\n",
    "# Output: x is not greater than 5"
   ]
  },
  {
   "cell_type": "markdown",
   "metadata": {},
   "source": [
    "## elif Statement\n",
    "\n",
    "The 'elif' (else if) statement is used to check multiple conditions in sequence. It is executed if the previous 'if' or 'elif' condition is false and the current condition is true."
   ]
  },
  {
   "cell_type": "code",
   "execution_count": 3,
   "metadata": {},
   "outputs": [],
   "source": [
    "# Example of an if-elif-else statement\n",
    "x = 7\n",
    "if x > 10:\n",
    "    print('x is greater than 10')\n",
    "elif x > 5:\n",
    "    print('x is greater than 5 but not greater than 10')\n",
    "else:\n",
    "    print('x is not greater than 5')\n",
    "\n",
    "# Output: x is greater than 5 but not greater than 10"
   ]
  },
  {
   "cell_type": "markdown",
   "metadata": {},
   "source": [
    "## Nested if Statements\n",
    "\n",
    "You can use nested 'if' statements to check for multiple conditions within other 'if' or 'else' blocks."
   ]
  },
  {
   "cell_type": "code",
   "execution_count": 4,
   "metadata": {},
   "outputs": [],
   "source": [
    "# Example of nested if statements\n",
    "x = 12\n",
    "if x > 10:\n",
    "    print('x is greater than 10')\n",
    "    if x > 15:\n",
    "        print('x is also greater than 15')\n",
    "    else:\n",
    "        print('x is greater than 10 but not greater than 15')\n",
    "else:\n",
    "    print('x is not greater than 10')\n",
    "\n",
    "# Output: x is greater than 10\n",
    "#         x is also greater than 15"
   ]
  },
  {
   "cell_type": "markdown",
   "metadata": {},
   "source": [
    "These are some of the common features and methods related to conditional statements in Python. The examples demonstrate how to use 'if', 'elif', and 'else' to make decisions based on conditions and how to use nested 'if' statements for more complex logic."
   ]
  }
 ],
 "metadata": {
  "language_info": {
   "name": "python",
   "version": "3.9.6",
   "mimetype": "text/x-python",
   "codemirror_mode": {
    "name": "ipython",
    "version": 3
   },
   "pygments_lexer": "ipython3",
   "nbconvert_exporter": "python",
   "file_extension": ".py"
  },
  "orig_nbformat": 4,
  "kernelspec": {
   "name": "python3.9",
   "display_name": "Python 3.9.6"
  },
  "interpreter": {
   "hash": "f4d789399786d0641b21c0e7c879f1c0808254489b343b20c732b951ee78e441"
  }
 },
 "nbformat": 4,
 "nbformat_minor": 5
}
